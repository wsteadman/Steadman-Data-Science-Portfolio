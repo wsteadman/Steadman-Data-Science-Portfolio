{
 "cells": [
  {
   "cell_type": "markdown",
   "metadata": {
    "id": "XjFgWw51HwDo"
   },
   "source": [
    "## Section 1: Combining Data"
   ]
  },
  {
   "cell_type": "markdown",
   "metadata": {
    "id": "eBs1hZnTM6zy"
   },
   "source": [
    "Additional examples of [data wrangling in Pandas](https://pandas.pydata.org/Pandas_Cheat_Sheet.pdf)"
   ]
  },
  {
   "cell_type": "markdown",
   "metadata": {
    "id": "s3-QBbg8H2Al"
   },
   "source": [
    "### `pd.concat()`\n",
    "- **Purpose**: Combines multiple DataFrames into one.\n",
    "\n",
    "- **Key Parameter**:\n",
    "    - `ignore_index`: When set to `True` resets the index so that the resulting DataFrame has a new continuous index."
   ]
  },
  {
   "cell_type": "code",
   "execution_count": 3,
   "metadata": {
    "id": "Es0TZvqtEXVO"
   },
   "outputs": [
    {
     "data": {
      "text/html": [
       "<div>\n",
       "<style scoped>\n",
       "    .dataframe tbody tr th:only-of-type {\n",
       "        vertical-align: middle;\n",
       "    }\n",
       "\n",
       "    .dataframe tbody tr th {\n",
       "        vertical-align: top;\n",
       "    }\n",
       "\n",
       "    .dataframe thead th {\n",
       "        text-align: right;\n",
       "    }\n",
       "</style>\n",
       "<table border=\"1\" class=\"dataframe\">\n",
       "  <thead>\n",
       "    <tr style=\"text-align: right;\">\n",
       "      <th></th>\n",
       "      <th>EmployeeID</th>\n",
       "      <th>Name</th>\n",
       "      <th>Department</th>\n",
       "      <th>Salary</th>\n",
       "    </tr>\n",
       "  </thead>\n",
       "  <tbody>\n",
       "    <tr>\n",
       "      <th>0</th>\n",
       "      <td>101</td>\n",
       "      <td>Alice</td>\n",
       "      <td>Sales</td>\n",
       "      <td>60000</td>\n",
       "    </tr>\n",
       "    <tr>\n",
       "      <th>1</th>\n",
       "      <td>102</td>\n",
       "      <td>Bob</td>\n",
       "      <td>Sales</td>\n",
       "      <td>62000</td>\n",
       "    </tr>\n",
       "    <tr>\n",
       "      <th>2</th>\n",
       "      <td>103</td>\n",
       "      <td>Michael</td>\n",
       "      <td>Sales</td>\n",
       "      <td>61000</td>\n",
       "    </tr>\n",
       "    <tr>\n",
       "      <th>0</th>\n",
       "      <td>104</td>\n",
       "      <td>David</td>\n",
       "      <td>Marketing</td>\n",
       "      <td>65000</td>\n",
       "    </tr>\n",
       "    <tr>\n",
       "      <th>1</th>\n",
       "      <td>105</td>\n",
       "      <td>Henry</td>\n",
       "      <td>Marketing</td>\n",
       "      <td>67000</td>\n",
       "    </tr>\n",
       "  </tbody>\n",
       "</table>\n",
       "</div>"
      ],
      "text/plain": [
       "   EmployeeID     Name Department  Salary\n",
       "0         101    Alice      Sales   60000\n",
       "1         102      Bob      Sales   62000\n",
       "2         103  Michael      Sales   61000\n",
       "0         104    David  Marketing   65000\n",
       "1         105    Henry  Marketing   67000"
      ]
     },
     "execution_count": 3,
     "metadata": {},
     "output_type": "execute_result"
    }
   ],
   "source": [
    "import pandas as pd\n",
    "\n",
    "# Department 1 data\n",
    "df_dept1 = pd.DataFrame({\n",
    "    'EmployeeID': [101, 102, 103],\n",
    "    'Name': ['Alice', 'Bob', 'Michael'],\n",
    "    'Department': ['Sales', 'Sales', 'Sales'],\n",
    "    'Salary': [60000, 62000, 61000]\n",
    "})\n",
    "\n",
    "# Department 2 data\n",
    "df_dept2 = pd.DataFrame({\n",
    "    'EmployeeID': [104, 105],\n",
    "    'Name': ['David', 'Henry'],\n",
    "    'Department': ['Marketing', 'Marketing'],\n",
    "    'Salary': [65000, 67000]\n",
    "})\n",
    "\n",
    "df_employees = pd.concat([df_dept1, df_dept2])\n",
    "df_employees"
   ]
  },
  {
   "cell_type": "markdown",
   "metadata": {
    "id": "6_45vWI-IHpa"
   },
   "source": [
    "### `rename()`\n",
    "- **Purpose**: Changes column names to more meaningful or standardized labels.\n",
    "- **Key Parameter**:\n",
    "    - `columns`: A dictionary mapping old column names to new names."
   ]
  },
  {
   "cell_type": "code",
   "execution_count": 4,
   "metadata": {
    "id": "fd063VWFEerp"
   },
   "outputs": [
    {
     "data": {
      "text/html": [
       "<div>\n",
       "<style scoped>\n",
       "    .dataframe tbody tr th:only-of-type {\n",
       "        vertical-align: middle;\n",
       "    }\n",
       "\n",
       "    .dataframe tbody tr th {\n",
       "        vertical-align: top;\n",
       "    }\n",
       "\n",
       "    .dataframe thead th {\n",
       "        text-align: right;\n",
       "    }\n",
       "</style>\n",
       "<table border=\"1\" class=\"dataframe\">\n",
       "  <thead>\n",
       "    <tr style=\"text-align: right;\">\n",
       "      <th></th>\n",
       "      <th>Emp_ID</th>\n",
       "      <th>Employee_Name</th>\n",
       "      <th>Dept</th>\n",
       "      <th>Annual_Salary</th>\n",
       "    </tr>\n",
       "  </thead>\n",
       "  <tbody>\n",
       "    <tr>\n",
       "      <th>0</th>\n",
       "      <td>101</td>\n",
       "      <td>Alice</td>\n",
       "      <td>Sales</td>\n",
       "      <td>60000</td>\n",
       "    </tr>\n",
       "    <tr>\n",
       "      <th>1</th>\n",
       "      <td>102</td>\n",
       "      <td>Bob</td>\n",
       "      <td>Sales</td>\n",
       "      <td>62000</td>\n",
       "    </tr>\n",
       "    <tr>\n",
       "      <th>2</th>\n",
       "      <td>103</td>\n",
       "      <td>Michael</td>\n",
       "      <td>Sales</td>\n",
       "      <td>61000</td>\n",
       "    </tr>\n",
       "    <tr>\n",
       "      <th>0</th>\n",
       "      <td>104</td>\n",
       "      <td>David</td>\n",
       "      <td>Marketing</td>\n",
       "      <td>65000</td>\n",
       "    </tr>\n",
       "    <tr>\n",
       "      <th>1</th>\n",
       "      <td>105</td>\n",
       "      <td>Henry</td>\n",
       "      <td>Marketing</td>\n",
       "      <td>67000</td>\n",
       "    </tr>\n",
       "  </tbody>\n",
       "</table>\n",
       "</div>"
      ],
      "text/plain": [
       "   Emp_ID Employee_Name       Dept  Annual_Salary\n",
       "0     101         Alice      Sales          60000\n",
       "1     102           Bob      Sales          62000\n",
       "2     103       Michael      Sales          61000\n",
       "0     104         David  Marketing          65000\n",
       "1     105         Henry  Marketing          67000"
      ]
     },
     "execution_count": 4,
     "metadata": {},
     "output_type": "execute_result"
    }
   ],
   "source": [
    "# Rename columns to more descriptive names\n",
    "df_employees_renamed = df_employees.rename(\n",
    "    columns={\n",
    "    'EmployeeID': 'Emp_ID',\n",
    "    'Name': 'Employee_Name',\n",
    "    'Department': 'Dept',\n",
    "    'Salary': 'Annual_Salary'})\n",
    "\n",
    "df_employees_renamed"
   ]
  },
  {
   "cell_type": "markdown",
   "metadata": {
    "id": "vHt823y8IUBw"
   },
   "source": [
    "### `sort_values()`\n",
    "- **Purpose**: Sorts the DataFrame by a specific column.\n",
    "- **Key Parameter**:\n",
    "    - `by`: Specifies the column(s) to sort by.\n",
    "    - `ascending`: When set to `False` sorts the data in descending order."
   ]
  },
  {
   "cell_type": "code",
   "execution_count": 5,
   "metadata": {
    "id": "MED8LAAeEg-G"
   },
   "outputs": [
    {
     "data": {
      "text/html": [
       "<div>\n",
       "<style scoped>\n",
       "    .dataframe tbody tr th:only-of-type {\n",
       "        vertical-align: middle;\n",
       "    }\n",
       "\n",
       "    .dataframe tbody tr th {\n",
       "        vertical-align: top;\n",
       "    }\n",
       "\n",
       "    .dataframe thead th {\n",
       "        text-align: right;\n",
       "    }\n",
       "</style>\n",
       "<table border=\"1\" class=\"dataframe\">\n",
       "  <thead>\n",
       "    <tr style=\"text-align: right;\">\n",
       "      <th></th>\n",
       "      <th>Emp_ID</th>\n",
       "      <th>Employee_Name</th>\n",
       "      <th>Dept</th>\n",
       "      <th>Annual_Salary</th>\n",
       "    </tr>\n",
       "  </thead>\n",
       "  <tbody>\n",
       "    <tr>\n",
       "      <th>1</th>\n",
       "      <td>105</td>\n",
       "      <td>Henry</td>\n",
       "      <td>Marketing</td>\n",
       "      <td>67000</td>\n",
       "    </tr>\n",
       "    <tr>\n",
       "      <th>0</th>\n",
       "      <td>104</td>\n",
       "      <td>David</td>\n",
       "      <td>Marketing</td>\n",
       "      <td>65000</td>\n",
       "    </tr>\n",
       "    <tr>\n",
       "      <th>1</th>\n",
       "      <td>102</td>\n",
       "      <td>Bob</td>\n",
       "      <td>Sales</td>\n",
       "      <td>62000</td>\n",
       "    </tr>\n",
       "    <tr>\n",
       "      <th>2</th>\n",
       "      <td>103</td>\n",
       "      <td>Michael</td>\n",
       "      <td>Sales</td>\n",
       "      <td>61000</td>\n",
       "    </tr>\n",
       "    <tr>\n",
       "      <th>0</th>\n",
       "      <td>101</td>\n",
       "      <td>Alice</td>\n",
       "      <td>Sales</td>\n",
       "      <td>60000</td>\n",
       "    </tr>\n",
       "  </tbody>\n",
       "</table>\n",
       "</div>"
      ],
      "text/plain": [
       "   Emp_ID Employee_Name       Dept  Annual_Salary\n",
       "1     105         Henry  Marketing          67000\n",
       "0     104         David  Marketing          65000\n",
       "1     102           Bob      Sales          62000\n",
       "2     103       Michael      Sales          61000\n",
       "0     101         Alice      Sales          60000"
      ]
     },
     "execution_count": 5,
     "metadata": {},
     "output_type": "execute_result"
    }
   ],
   "source": [
    "# Sort by Annual_Salary in descending order\n",
    "df_sorted = df_employees_renamed.sort_values(by ='Annual_Salary', \n",
    "                                             ascending = False)\n",
    "\n",
    "df_sorted"
   ]
  },
  {
   "cell_type": "markdown",
   "metadata": {
    "id": "8ZntpkBqIjrz"
   },
   "source": [
    "## Section 2: Method Chaining"
   ]
  },
  {
   "cell_type": "markdown",
   "metadata": {
    "id": "BF4iWf3OIlWD"
   },
   "source": [
    "### **Concept**: Combining several DataFrame operations into one continuous expression.\n",
    "\n",
    "### **Advantages**:\n",
    "- Improves readability and conciseness.\n",
    "- Reduces the need for intermediate variables.\n",
    "\n",
    "### Steps in this chain:\n",
    "- **Concatenation**: Merges the two department DataFrames.\n",
    "- **Renaming**: Standardizes column names.\n",
    "- **Sorting**: Orders the DataFrame by annual salary in descending order."
   ]
  },
  {
   "cell_type": "code",
   "execution_count": 9,
   "metadata": {
    "id": "Vomj3s-3EyBM"
   },
   "outputs": [
    {
     "data": {
      "text/html": [
       "<div>\n",
       "<style scoped>\n",
       "    .dataframe tbody tr th:only-of-type {\n",
       "        vertical-align: middle;\n",
       "    }\n",
       "\n",
       "    .dataframe tbody tr th {\n",
       "        vertical-align: top;\n",
       "    }\n",
       "\n",
       "    .dataframe thead th {\n",
       "        text-align: right;\n",
       "    }\n",
       "</style>\n",
       "<table border=\"1\" class=\"dataframe\">\n",
       "  <thead>\n",
       "    <tr style=\"text-align: right;\">\n",
       "      <th></th>\n",
       "      <th>Emp_ID</th>\n",
       "      <th>Employee_Name</th>\n",
       "      <th>Dept</th>\n",
       "      <th>Annual_Salary</th>\n",
       "    </tr>\n",
       "  </thead>\n",
       "  <tbody>\n",
       "    <tr>\n",
       "      <th>1</th>\n",
       "      <td>105</td>\n",
       "      <td>Henry</td>\n",
       "      <td>Marketing</td>\n",
       "      <td>67000</td>\n",
       "    </tr>\n",
       "    <tr>\n",
       "      <th>0</th>\n",
       "      <td>104</td>\n",
       "      <td>David</td>\n",
       "      <td>Marketing</td>\n",
       "      <td>65000</td>\n",
       "    </tr>\n",
       "    <tr>\n",
       "      <th>1</th>\n",
       "      <td>102</td>\n",
       "      <td>Bob</td>\n",
       "      <td>Sales</td>\n",
       "      <td>62000</td>\n",
       "    </tr>\n",
       "    <tr>\n",
       "      <th>2</th>\n",
       "      <td>103</td>\n",
       "      <td>Michael</td>\n",
       "      <td>Sales</td>\n",
       "      <td>61000</td>\n",
       "    </tr>\n",
       "    <tr>\n",
       "      <th>0</th>\n",
       "      <td>101</td>\n",
       "      <td>Alice</td>\n",
       "      <td>Sales</td>\n",
       "      <td>60000</td>\n",
       "    </tr>\n",
       "  </tbody>\n",
       "</table>\n",
       "</div>"
      ],
      "text/plain": [
       "   Emp_ID Employee_Name       Dept  Annual_Salary\n",
       "1     105         Henry  Marketing          67000\n",
       "0     104         David  Marketing          65000\n",
       "1     102           Bob      Sales          62000\n",
       "2     103       Michael      Sales          61000\n",
       "0     101         Alice      Sales          60000"
      ]
     },
     "execution_count": 9,
     "metadata": {},
     "output_type": "execute_result"
    }
   ],
   "source": [
    "import pandas as pd\n",
    "\n",
    "# Department 1 data\n",
    "df_dept1 = pd.DataFrame({\n",
    "    'EmployeeID': [101, 102, 103],\n",
    "    'Name': ['Alice', 'Bob', 'Michael'],\n",
    "    'Department': ['Sales', 'Sales', 'Sales'],\n",
    "    'Salary': [60000, 62000, 61000]\n",
    "})\n",
    "\n",
    "# Department 2 data\n",
    "df_dept2 = pd.DataFrame({\n",
    "    'EmployeeID': [104, 105],\n",
    "    'Name': ['David', 'Henry'],\n",
    "    'Department': ['Marketing', 'Marketing'],\n",
    "    'Salary': [65000, 67000]\n",
    "})\n",
    "\n",
    "# Method chaining: Combine, rename, and sort in descending order of salary.\n",
    "\n",
    "df_employees = (pd.concat([df_dept1, df_dept2])\n",
    " .rename(columns={\n",
    "    'EmployeeID': 'Emp_ID',\n",
    "    'Name': 'Employee_Name',\n",
    "    'Department': 'Dept',\n",
    "    'Salary': 'Annual_Salary'})\n",
    "    .sort_values(by = \"Annual_Salary\", ascending = False)\n",
    "    )\n",
    "\n",
    "df_employees"
   ]
  },
  {
   "cell_type": "markdown",
   "metadata": {
    "id": "bv35Qs3iI6_j"
   },
   "source": [
    "## Group Activity: Cleaning an Untidy Sales Dataset Using Method Chaining"
   ]
  },
  {
   "cell_type": "markdown",
   "metadata": {
    "id": "E4t67jTUJDKq"
   },
   "source": [
    "### Method Chaining Instructions:\n",
    "- Remove duplicates.\n",
    "- Fill missing values with 0.\n",
    "- Reshape the DataFrame from wide to long format.\n",
    "- Sort the final DataFrame."
   ]
  },
  {
   "cell_type": "code",
   "execution_count": null,
   "metadata": {
    "id": "6ajePSEdE0qa"
   },
   "outputs": [
    {
     "data": {
      "text/html": [
       "<div>\n",
       "<style scoped>\n",
       "    .dataframe tbody tr th:only-of-type {\n",
       "        vertical-align: middle;\n",
       "    }\n",
       "\n",
       "    .dataframe tbody tr th {\n",
       "        vertical-align: top;\n",
       "    }\n",
       "\n",
       "    .dataframe thead th {\n",
       "        text-align: right;\n",
       "    }\n",
       "</style>\n",
       "<table border=\"1\" class=\"dataframe\">\n",
       "  <thead>\n",
       "    <tr style=\"text-align: right;\">\n",
       "      <th></th>\n",
       "      <th>Product</th>\n",
       "      <th>Region</th>\n",
       "      <th>Sales_Q1</th>\n",
       "      <th>Sales_Q2</th>\n",
       "      <th>Sales_Q3</th>\n",
       "      <th>Sales_Q4</th>\n",
       "    </tr>\n",
       "  </thead>\n",
       "  <tbody>\n",
       "    <tr>\n",
       "      <th>0</th>\n",
       "      <td>Widget A</td>\n",
       "      <td>North</td>\n",
       "      <td>100.0</td>\n",
       "      <td>110.0</td>\n",
       "      <td>105.0</td>\n",
       "      <td>115.0</td>\n",
       "    </tr>\n",
       "    <tr>\n",
       "      <th>1</th>\n",
       "      <td>Widget B</td>\n",
       "      <td>South</td>\n",
       "      <td>200.0</td>\n",
       "      <td>NaN</td>\n",
       "      <td>205.0</td>\n",
       "      <td>215.0</td>\n",
       "    </tr>\n",
       "    <tr>\n",
       "      <th>2</th>\n",
       "      <td>Widget A</td>\n",
       "      <td>North</td>\n",
       "      <td>100.0</td>\n",
       "      <td>110.0</td>\n",
       "      <td>105.0</td>\n",
       "      <td>115.0</td>\n",
       "    </tr>\n",
       "    <tr>\n",
       "      <th>3</th>\n",
       "      <td>Widget C</td>\n",
       "      <td>East</td>\n",
       "      <td>150.0</td>\n",
       "      <td>160.0</td>\n",
       "      <td>NaN</td>\n",
       "      <td>165.0</td>\n",
       "    </tr>\n",
       "    <tr>\n",
       "      <th>4</th>\n",
       "      <td>Widget B</td>\n",
       "      <td>South</td>\n",
       "      <td>NaN</td>\n",
       "      <td>210.0</td>\n",
       "      <td>215.0</td>\n",
       "      <td>225.0</td>\n",
       "    </tr>\n",
       "    <tr>\n",
       "      <th>5</th>\n",
       "      <td>Widget A</td>\n",
       "      <td>North</td>\n",
       "      <td>100.0</td>\n",
       "      <td>110.0</td>\n",
       "      <td>105.0</td>\n",
       "      <td>NaN</td>\n",
       "    </tr>\n",
       "    <tr>\n",
       "      <th>6</th>\n",
       "      <td>Widget D</td>\n",
       "      <td>West</td>\n",
       "      <td>180.0</td>\n",
       "      <td>185.0</td>\n",
       "      <td>175.0</td>\n",
       "      <td>190.0</td>\n",
       "    </tr>\n",
       "    <tr>\n",
       "      <th>7</th>\n",
       "      <td>Widget E</td>\n",
       "      <td>East</td>\n",
       "      <td>210.0</td>\n",
       "      <td>220.0</td>\n",
       "      <td>205.0</td>\n",
       "      <td>215.0</td>\n",
       "    </tr>\n",
       "    <tr>\n",
       "      <th>8</th>\n",
       "      <td>Widget C</td>\n",
       "      <td>Central</td>\n",
       "      <td>140.0</td>\n",
       "      <td>150.0</td>\n",
       "      <td>145.0</td>\n",
       "      <td>155.0</td>\n",
       "    </tr>\n",
       "    <tr>\n",
       "      <th>9</th>\n",
       "      <td>Widget D</td>\n",
       "      <td>North</td>\n",
       "      <td>190.0</td>\n",
       "      <td>200.0</td>\n",
       "      <td>195.0</td>\n",
       "      <td>205.0</td>\n",
       "    </tr>\n",
       "    <tr>\n",
       "      <th>10</th>\n",
       "      <td>Widget B</td>\n",
       "      <td>West</td>\n",
       "      <td>205.0</td>\n",
       "      <td>215.0</td>\n",
       "      <td>210.0</td>\n",
       "      <td>220.0</td>\n",
       "    </tr>\n",
       "    <tr>\n",
       "      <th>11</th>\n",
       "      <td>Widget E</td>\n",
       "      <td>South</td>\n",
       "      <td>220.0</td>\n",
       "      <td>230.0</td>\n",
       "      <td>225.0</td>\n",
       "      <td>235.0</td>\n",
       "    </tr>\n",
       "  </tbody>\n",
       "</table>\n",
       "</div>"
      ],
      "text/plain": [
       "     Product   Region  Sales_Q1  Sales_Q2  Sales_Q3  Sales_Q4\n",
       "0   Widget A    North     100.0     110.0     105.0     115.0\n",
       "1   Widget B    South     200.0       NaN     205.0     215.0\n",
       "2   Widget A    North     100.0     110.0     105.0     115.0\n",
       "3   Widget C     East     150.0     160.0       NaN     165.0\n",
       "4   Widget B    South       NaN     210.0     215.0     225.0\n",
       "5   Widget A    North     100.0     110.0     105.0       NaN\n",
       "6   Widget D     West     180.0     185.0     175.0     190.0\n",
       "7   Widget E     East     210.0     220.0     205.0     215.0\n",
       "8   Widget C  Central     140.0     150.0     145.0     155.0\n",
       "9   Widget D    North     190.0     200.0     195.0     205.0\n",
       "10  Widget B     West     205.0     215.0     210.0     220.0\n",
       "11  Widget E    South     220.0     230.0     225.0     235.0"
      ]
     },
     "execution_count": 11,
     "metadata": {},
     "output_type": "execute_result"
    }
   ],
   "source": [
    "import pandas as pd\n",
    "\n",
    "df_sales = pd.DataFrame({\n",
    "    'Product': [\n",
    "        'Widget A', 'Widget B', 'Widget A', 'Widget C',\n",
    "        'Widget B', 'Widget A', 'Widget D', 'Widget E',\n",
    "        'Widget C', 'Widget D', 'Widget B', 'Widget E'\n",
    "    ],\n",
    "    'Region': [\n",
    "        'North', 'South', 'North', 'East',\n",
    "        'South', 'North', 'West', 'East',\n",
    "        'Central', 'North', 'West', 'South'\n",
    "    ],\n",
    "    'Sales_Q1': [100, 200, 100, 150, None, 100, 180, 210, 140, 190, 205, 220],\n",
    "    'Sales_Q2': [110, None, 110, 160, 210, 110, 185, 220, 150, 200, 215, 230],\n",
    "    'Sales_Q3': [105, 205, 105, None, 215, 105, 175, 205, 145, 195, 210, 225],\n",
    "    'Sales_Q4': [115, 215, 115, 165, 225, None, 190, 215, 155, 205, 220, 235]\n",
    "})\n",
    "\n",
    "(df_sales\n",
    ".drop_duplicates()\n",
    ".fillna(0).\n",
    ".melt( id_vars = ['Product', 'Region'], \n",
    "      value_vars = df_sales.columns[3:], \n",
    "      var_name = '', \n",
    "      value_name = ''))\n",
    "\n",
    "# Method chaining: Clean the dataset in one pipeline.\n",
    "\n",
    "            \n",
    "            "
   ]
  },
  {
   "cell_type": "code",
   "execution_count": null,
   "metadata": {
    "id": "86hM-4tPKkZA"
   },
   "outputs": [],
   "source": [
    "# Create a pivot table that calculates the sum of sales per Product per Region\n"
   ]
  },
  {
   "cell_type": "markdown",
   "metadata": {
    "id": "7FhmsWn4KWmg"
   },
   "source": []
  }
 ],
 "metadata": {
  "colab": {
   "authorship_tag": "ABX9TyPxt7Ld7kBXfU0dOgI5OtUb",
   "provenance": [],
   "toc_visible": true
  },
  "kernelspec": {
   "display_name": "base",
   "language": "python",
   "name": "python3"
  },
  "language_info": {
   "codemirror_mode": {
    "name": "ipython",
    "version": 3
   },
   "file_extension": ".py",
   "mimetype": "text/x-python",
   "name": "python",
   "nbconvert_exporter": "python",
   "pygments_lexer": "ipython3",
   "version": "3.12.7"
  }
 },
 "nbformat": 4,
 "nbformat_minor": 0
}
