{
 "cells": [
  {
   "cell_type": "code",
   "execution_count": 54,
   "metadata": {},
   "outputs": [],
   "source": [
    "from sklearn.datasets import fetch_california_housing\n",
    "import pandas as pd\n",
    "# Load the housing dataset\n",
    "housing = fetch_california_housing()"
   ]
  },
  {
   "cell_type": "code",
   "execution_count": 55,
   "metadata": {},
   "outputs": [],
   "source": [
    "# creating data frame\n",
    "x = pd.DataFrame(housing.data, columns=housing.feature_names) \n",
    "\n",
    "# Target: median housing prices\n",
    "y = pd.Series(housing.target, name='med_house_value')"
   ]
  },
  {
   "cell_type": "code",
   "execution_count": 56,
   "metadata": {},
   "outputs": [
    {
     "name": "stdout",
     "output_type": "stream",
     "text": [
      "   MedInc  HouseAge  AveRooms  AveBedrms  Population  AveOccup  Latitude  \\\n",
      "0  8.3252      41.0  6.984127   1.023810       322.0  2.555556     37.88   \n",
      "1  8.3014      21.0  6.238137   0.971880      2401.0  2.109842     37.86   \n",
      "2  7.2574      52.0  8.288136   1.073446       496.0  2.802260     37.85   \n",
      "3  5.6431      52.0  5.817352   1.073059       558.0  2.547945     37.85   \n",
      "4  3.8462      52.0  6.281853   1.081081       565.0  2.181467     37.85   \n",
      "\n",
      "   Longitude  \n",
      "0    -122.23  \n",
      "1    -122.22  \n",
      "2    -122.24  \n",
      "3    -122.25  \n",
      "4    -122.25  \n",
      "\n",
      "Feature names:\n",
      "0    4.526\n",
      "1    3.585\n",
      "2    3.521\n",
      "3    3.413\n",
      "4    3.422\n",
      "Name: med_house_value, dtype: float64\n",
      "\n",
      "Missing values in the dataset:\n",
      "MedInc        0\n",
      "HouseAge      0\n",
      "AveRooms      0\n",
      "AveBedrms     0\n",
      "Population    0\n",
      "AveOccup      0\n",
      "Latitude      0\n",
      "Longitude     0\n",
      "dtype: int64\n"
     ]
    }
   ],
   "source": [
    "# First 5 rows of the feature dataset\n",
    "print(x.head())\n",
    "\n",
    "# Print the feature names\n",
    "print(\"\\nFeature names:\")\n",
    "print(y.head())\n",
    "\n",
    "# Check for missing values\n",
    "print(\"\\nMissing values in the dataset:\")\n",
    "print(x.isnull().sum())\n"
   ]
  },
  {
   "cell_type": "code",
   "execution_count": 57,
   "metadata": {},
   "outputs": [
    {
     "name": "stdout",
     "output_type": "stream",
     "text": [
      "             MedInc      HouseAge      AveRooms     AveBedrms    Population  \\\n",
      "count  20640.000000  20640.000000  20640.000000  20640.000000  20640.000000   \n",
      "mean       3.870671     28.639486      5.429000      1.096675   1425.476744   \n",
      "std        1.899822     12.585558      2.474173      0.473911   1132.462122   \n",
      "min        0.499900      1.000000      0.846154      0.333333      3.000000   \n",
      "25%        2.563400     18.000000      4.440716      1.006079    787.000000   \n",
      "50%        3.534800     29.000000      5.229129      1.048780   1166.000000   \n",
      "75%        4.743250     37.000000      6.052381      1.099526   1725.000000   \n",
      "max       15.000100     52.000000    141.909091     34.066667  35682.000000   \n",
      "\n",
      "           AveOccup      Latitude     Longitude  \n",
      "count  20640.000000  20640.000000  20640.000000  \n",
      "mean       3.070655     35.631861   -119.569704  \n",
      "std       10.386050      2.135952      2.003532  \n",
      "min        0.692308     32.540000   -124.350000  \n",
      "25%        2.429741     33.930000   -121.800000  \n",
      "50%        2.818116     34.260000   -118.490000  \n",
      "75%        3.282261     37.710000   -118.010000  \n",
      "max     1243.333333     41.950000   -114.310000  \n",
      "count    20640.000000\n",
      "mean         2.068558\n",
      "std          1.153956\n",
      "min          0.149990\n",
      "25%          1.196000\n",
      "50%          1.797000\n",
      "75%          2.647250\n",
      "max          5.000010\n",
      "Name: med_house_value, dtype: float64\n"
     ]
    }
   ],
   "source": [
    "# Generate summary statistics\n",
    "print(x.describe())\n",
    "print(y.describe())"
   ]
  },
  {
   "cell_type": "code",
   "execution_count": 58,
   "metadata": {},
   "outputs": [],
   "source": [
    "from sklearn.model_selection import train_test_split\n",
    "from sklearn.linear_model import LinearRegression"
   ]
  },
  {
   "cell_type": "code",
   "execution_count": 59,
   "metadata": {},
   "outputs": [],
   "source": [
    "# Split the raw data (80% training, 20% testing)\n",
    "x_train, x_test, y_train, y_test = train_test_split(x, y, test_size=0.2)\n",
    "\n",
    "# Initialize and train the linear regression model on unscaled data\n",
    "lin_reg = LinearRegression()\n",
    "lin_reg.fit(x_train, y_train)\n",
    "\n",
    "# Make predictions on the test set\n",
    "y_pred = lin_reg.predict(x_test)"
   ]
  },
  {
   "cell_type": "code",
   "execution_count": 66,
   "metadata": {},
   "outputs": [
    {
     "name": "stdout",
     "output_type": "stream",
     "text": [
      "Model Coefficients (Unscaled):\n",
      "MedInc        0.431822\n",
      "HouseAge      0.009615\n",
      "AveRooms     -0.101645\n",
      "AveBedrms     0.609838\n",
      "Population   -0.000002\n",
      "AveOccup     -0.003443\n",
      "Latitude     -0.419338\n",
      "Longitude    -0.432621\n",
      "dtype: float64\n",
      "Mean Squared Error: 0.54\n",
      "Root Squared Error: 0.74\n",
      "R² Score: 0.59\n"
     ]
    }
   ],
   "source": [
    "from sklearn.metrics import mean_squared_error, root_mean_squared_error, r2_score\n",
    "\n",
    "# Evaluate model performance\n",
    "mse = mean_squared_error(y_test, y_pred)\n",
    "rmse  = root_mean_squared_error(y_test, y_pred)\n",
    "r2  = r2_score(y_test, y_pred)\n",
    "\n",
    "# View our model's coefficients\n",
    "print(\"Model Coefficients (Unscaled):\")\n",
    "print(pd.Series(lin_reg.coef_,\n",
    "                index=x.columns))\n",
    "\n",
    "# print values as floats w/ 2 decimal places\n",
    "print(f\"Mean Squared Error: {mse:.2f}\")\n",
    "print(f\"Root Squared Error: {rmse:.2f}\")\n",
    "print(f\"R² Score: {r2:.2f}\")\n"
   ]
  },
  {
   "cell_type": "markdown",
   "metadata": {},
   "source": [
    "What does the R² score tell us about model performance?\n",
    " - This metric tells the user the proportion of variance in the target variable explained by the model (independent variable). Values closer to 1 suggest a model that clearly explains variations in the target variable using the independent variable, while a value closer to zero indicate that the model explains very little of the variance (poor fitting model). In this example the R squared is telling us how well all of the model coeffieicents are predictions housing prices. \n",
    "\n",
    " \n",
    "Which features seem to have the strongest impact on predictions based on the model’s coefficients?\n",
    "- Median income, number of bedrooms, and latitude/longitude seem to have the strongest impact on price. This is because their coefficients have the largest abslute values. \n",
    "\n",
    "How well do the predicted values match the actual values?\n",
    "- The predicted values are somewhat accurate, the R squared value is only around .6 which means the model explains 60% of the variance. Furthermore, the RMSE of .74 means the model predictions are off by $74,000 on average which seems pretty substantial."
   ]
  },
  {
   "cell_type": "code",
   "execution_count": 69,
   "metadata": {},
   "outputs": [
    {
     "name": "stdout",
     "output_type": "stream",
     "text": [
      "Model Coefficients (Scaled):\n",
      "MedInc        0.839597\n",
      "HouseAge      0.126841\n",
      "AveRooms     -0.278961\n",
      "AveBedrms     0.343215\n",
      "Population   -0.000563\n",
      "AveOccup     -0.036204\n",
      "Latitude     -0.893186\n",
      "Longitude    -0.860459\n",
      "dtype: float64\n",
      "Mean Squared Error: 0.52\n",
      "Root Squared Error: 0.72\n",
      "R² Score: 0.60\n"
     ]
    }
   ],
   "source": [
    "from sklearn.preprocessing import StandardScaler\n",
    "\n",
    "scaler = StandardScaler()\n",
    "x_scaled = scaler.fit_transform(x)\n",
    "x_scaled = pd.DataFrame(x_scaled, columns=x.columns)\n",
    "\n",
    "# Split scaled data\n",
    "x_train_scaled, x_test_scaled, y_train_scaled, y_test_scaled = train_test_split(x_scaled, y, test_size=0.2)\n",
    "\n",
    "\n",
    "# Initialize and train model on scaled data\n",
    "lin_reg_scaled = LinearRegression()\n",
    "lin_reg_scaled.fit(x_train_scaled, y_train_scaled)\n",
    "\n",
    "\n",
    "# Make predictions on the test set\n",
    "y_pred_scaled = lin_reg_scaled.predict(x_test_scaled)\n",
    "\n",
    "# Evaluate model performance\n",
    "mse_scaled = mean_squared_error(y_test_scaled, y_pred_scaled)\n",
    "r2_scaled = r2_score(y_test_scaled, y_pred_scaled)\n",
    "rmse_scaled = root_mean_squared_error(y_test_scaled, y_pred_scaled)\n",
    "\n",
    "\n",
    "# View our model's coefficients\n",
    "print(\"Model Coefficients (Scaled):\")\n",
    "print(pd.Series(lin_reg_scaled.coef_,\n",
    "                index=x.columns))\n",
    "\n",
    "print(f\"Mean Squared Error: {mse_scaled:.2f}\")\n",
    "print(f\"Root Squared Error: {rmse_scaled:.2f}\")\n",
    "print(f\"R² Score: {r2_scaled:.2f}\")\n"
   ]
  },
  {
   "cell_type": "markdown",
   "metadata": {},
   "source": [
    "Compare the metrics before and after scaling. What changed, and why?\n",
    "- The coefficients seemed to change somewhat substantially. This is because the scaled model indicates that each coefficient represents one standard deviation change in that feature. This makes it easier to compare the relative importance of features against one another, and it made mediance income one of the biggest predictors of housing price. \n",
    "\n",
    "Did the R² score improve? Why or why not?\n",
    "- The R squared score stayed the same, because although the scale of the input variables was altered the relatonship between them and the variance of the dependent varibale is unchanged. \n",
    "\n",
    "What role does feature scaling play in linear regression?\n",
    "- Feature scaling changes the interpretation of how well each indivual input influences the dependent variable, but not the actual accuracy of the model's prediction ability. \n"
   ]
  },
  {
   "cell_type": "code",
   "execution_count": null,
   "metadata": {},
   "outputs": [
    {
     "name": "stdout",
     "output_type": "stream",
     "text": [
      "Mean Squared Error: 0.72\n",
      "Root Squared Error: 0.85\n",
      "R² Score: 0.45\n"
     ]
    }
   ],
   "source": [
    "# Select three features for simplified model\n",
    "X_simplified_df = X[['AveRooms', 'AveOccup', 'MedInc']]\n",
    "\n",
    "# Split the data into training and testing sets (80/20)\n",
    "X_train_simplified, X_test_simplified, y_train_simplified, y_test_simplified = train_test_split(X_simplified_df, y, test_size=0.2)\n",
    "\n",
    "\n",
    "# Initialize and train the linear regression model on unscaled data\n",
    "lin_reg = LinearRegression()\n",
    "lin_reg.fit(X_train_simplified, y_train_simplified)\n",
    "\n",
    "# Make predictions on the test set\n",
    "y_pred_simplified = lin_reg.predict(X_test_simplified)\n",
    "\n",
    "mse_simplified = mean_squared_error(y_test_simplified, y_pred_simplified)\n",
    "r2_simplified = r2_score(y_test_simplified, y_pred_simplified)\n",
    "rmse_simplified = root_mean_squared_error(y_test_simplified, y_pred_simplified)\n",
    "\n",
    "\n",
    "\n",
    "print(f\"Mean Squared Error: {mse_simplified:.2f}\")\n",
    "print(f\"Root Squared Error: {rmse_simplified:.2f}\")\n",
    "print(f\"R² Score: {r2_simplified:.2f}\")"
   ]
  },
  {
   "cell_type": "markdown",
   "metadata": {},
   "source": [
    "How does the simplified model compare to the full model?\n",
    "- The simplified moddel has a lower R squared value because the simplified model has less information to use to predict variance. It also has a higher RMSE value, indicating more errors in its prediction. \n",
    "\n",
    "Would you use this simplified model in practice? Why or why not?\n",
    "- I probably would not use the simplified model because it has so much error and a lower R squared. It is usefull to highlight just how important a single input like median income is, but it makes a worse model overall. "
   ]
  },
  {
   "cell_type": "markdown",
   "metadata": {},
   "source": []
  }
 ],
 "metadata": {
  "kernelspec": {
   "display_name": "base",
   "language": "python",
   "name": "python3"
  },
  "language_info": {
   "codemirror_mode": {
    "name": "ipython",
    "version": 3
   },
   "file_extension": ".py",
   "mimetype": "text/x-python",
   "name": "python",
   "nbconvert_exporter": "python",
   "pygments_lexer": "ipython3",
   "version": "3.12.7"
  }
 },
 "nbformat": 4,
 "nbformat_minor": 2
}
